{
  "nbformat": 4,
  "nbformat_minor": 0,
  "metadata": {
    "colab": {
      "provenance": []
    },
    "kernelspec": {
      "name": "python3",
      "display_name": "Python 3"
    },
    "language_info": {
      "name": "python"
    }
  },
  "cells": [
    {
      "cell_type": "code",
      "source": [
        "from google.colab import drive\n",
        "import pandas as pd\n",
        "import numpy as np\n",
        "from sklearn.preprocessing import MinMaxScaler\n",
        "from sklearn.model_selection import train_test_split\n",
        "from sklearn.impute import SimpleImputer\n",
        "from sklearn.neighbors import KNeighborsRegressor\n",
        "from sklearn.metrics import mean_absolute_error, mean_absolute_percentage_error\n",
        "\n",
        "# # Mount Google Drive\n",
        "# drive.mount('/content/drive')\n",
        "\n",
        "# # Load dataset\n",
        "# file_path = '/content/drive/My Drive/psd/hujan/hujan.xlsx'\n",
        "# data = pd.read_excel(file_path)\n",
        "\n",
        "import pandas as pd\n",
        "\n",
        "url = 'https://raw.githubusercontent.com/Bima-010/psd/main/datasets/hujan.xlsx'\n",
        "\n",
        "data = pd.read_excel(url)"
      ],
      "metadata": {
        "id": "3OXdcjp0Td6G"
      },
      "execution_count": 57,
      "outputs": []
    },
    {
      "cell_type": "code",
      "source": [
        "# Mengonversi kolom 'Tanggal' menjadi datetime dengan format yang sesuai (DD-MM-YYYY)\n",
        "data['Tanggal'] = pd.to_datetime(data['Tanggal'], format='%d-%m-%Y')\n",
        "\n",
        "# Menangani nilai yang tidak terukur dan tidak dilakukan pengukuran\n",
        "data['RR'] = data['RR'].replace([8888, 9999], np.nan)\n",
        "\n",
        "# Impute missing values dengan nilai rata-rata kolom\n",
        "imputer = SimpleImputer(strategy='mean')\n",
        "data['RR'] = imputer.fit_transform(data[['RR']])\n",
        "\n",
        "# Menangani nilai 0 (terjadi hujan)\n",
        "# 0 dianggap valid sebagai indikasi tidak ada hujan, sehingga tidak perlu diubah\n"
      ],
      "metadata": {
        "id": "_Vn9pG1LTud3"
      },
      "execution_count": 37,
      "outputs": []
    },
    {
      "cell_type": "code",
      "source": [
        "def create_supervised_data(data, target_column, window_size):\n",
        "    X, y = [], []\n",
        "    for i in range(len(data) - window_size):\n",
        "        X.append(data[target_column].iloc[i:(i + window_size)].values)  # Menggunakan nilai sebelumnya\n",
        "        y.append(data[target_column].iloc[i + window_size])  # Nilai target (rain rate) untuk prediksi\n",
        "    return np.array(X), np.array(y)\n",
        "\n",
        "# Tentukan window size (misalnya 5 hari terakhir)\n",
        "window_size = 5\n",
        "\n",
        "# Buat X dan y\n",
        "X, y = create_supervised_data(data, target_column='RR', window_size=window_size)\n",
        "\n",
        "# Menampilkan ukuran X dan y\n",
        "print(\"Shape of X:\", X.shape)\n",
        "print(\"Shape of y:\", y.shape)\n"
      ],
      "metadata": {
        "colab": {
          "base_uri": "https://localhost:8080/"
        },
        "id": "w3r5pAsrUCsh",
        "outputId": "e0286bb3-4df1-4dab-9444-0d260e7cf0a7"
      },
      "execution_count": 38,
      "outputs": [
        {
          "output_type": "stream",
          "name": "stdout",
          "text": [
            "Shape of X: (330, 5)\n",
            "Shape of y: (330,)\n"
          ]
        }
      ]
    },
    {
      "cell_type": "code",
      "source": [
        "# Normalisasi data menggunakan MinMaxScaler\n",
        "scaler = MinMaxScaler()\n",
        "X_reshaped = X.reshape(-1, X.shape[-1])  # Menyusun ulang X agar bisa dinormalisasi\n",
        "X_normalized = scaler.fit_transform(X_reshaped)\n",
        "X_normalized = X_normalized.reshape(X.shape)\n",
        "\n",
        "# Menampilkan beberapa nilai setelah normalisasi\n",
        "print(\"Sample of normalized data:\")\n",
        "print(X_normalized[:5])\n"
      ],
      "metadata": {
        "colab": {
          "base_uri": "https://localhost:8080/"
        },
        "id": "farPljjiUEQG",
        "outputId": "92cde6ab-1b1c-46eb-c027-c9a7d230172e"
      },
      "execution_count": 39,
      "outputs": [
        {
          "output_type": "stream",
          "name": "stdout",
          "text": [
            "Sample of normalized data:\n",
            "[[0.00361446 0.         0.02391668 0.02710843 0.        ]\n",
            " [0.         0.02391668 0.02710843 0.         0.        ]\n",
            " [0.02391668 0.02710843 0.         0.         0.00722892]\n",
            " [0.02710843 0.         0.         0.00722892 0.02391668]\n",
            " [0.         0.         0.00722892 0.02391668 0.        ]]\n"
          ]
        }
      ]
    },
    {
      "cell_type": "code",
      "source": [
        "# Membagi data menjadi training dan testing\n",
        "X_train, X_test, y_train, y_test = train_test_split(X_normalized, y, test_size=0.2, shuffle=False)\n",
        "\n",
        "# Menampilkan ukuran X_train dan X_test\n",
        "print(\"Shape of X_train:\", X_train.shape)\n",
        "print(\"Shape of X_test:\", X_test.shape)\n"
      ],
      "metadata": {
        "colab": {
          "base_uri": "https://localhost:8080/"
        },
        "id": "6AYw3Vb6UGy3",
        "outputId": "7af517f5-a5e9-42a1-b133-62dee8272191"
      },
      "execution_count": 40,
      "outputs": [
        {
          "output_type": "stream",
          "name": "stdout",
          "text": [
            "Shape of X_train: (264, 5)\n",
            "Shape of X_test: (66, 5)\n"
          ]
        }
      ]
    },
    {
      "cell_type": "code",
      "source": [
        "# Inisialisasi model KNN\n",
        "knn = KNeighborsRegressor(n_neighbors=5)\n",
        "\n",
        "# Melatih model\n",
        "knn.fit(X_train.reshape(X_train.shape[0], -1), y_train)\n",
        "\n",
        "# Prediksi pada data testing\n",
        "y_pred = knn.predict(X_test.reshape(X_test.shape[0], -1))\n",
        "\n",
        "# Evaluasi menggunakan MAE dan MAPE\n",
        "mae = mean_absolute_error(y_test, y_pred)\n",
        "mape = mean_absolute_percentage_error(y_test, y_pred) * 100  # Mengonversi MAPE ke persen\n",
        "\n",
        "# Menampilkan hasil evaluasi\n",
        "print(\"MAE (Mean Absolute Error):\", mae)\n",
        "print(\"MAPE (Mean Absolute Percentage Error):\", mape, \"%\")\n"
      ],
      "metadata": {
        "colab": {
          "base_uri": "https://localhost:8080/"
        },
        "id": "a46W15s6UJOB",
        "outputId": "646b3926-aa33-4d62-89a9-efa504a65f44"
      },
      "execution_count": 41,
      "outputs": [
        {
          "output_type": "stream",
          "name": "stdout",
          "text": [
            "MAE (Mean Absolute Error): 4.122359527478171\n",
            "MAPE (Mean Absolute Percentage Error): 7.634255974810321e+17 %\n"
          ]
        }
      ]
    },
    {
      "cell_type": "code",
      "source": [
        "from sklearn.metrics import mean_squared_error\n",
        "\n",
        "# Menghitung RMSE (Root Mean Squared Error)\n",
        "rmse = np.sqrt(mean_squared_error(y_test, y_pred))\n",
        "\n",
        "# Menampilkan hasil RMSE\n",
        "print(\"RMSE (Root Mean Squared Error):\", rmse)\n",
        "\n",
        "# Menampilkan perbandingan antara nilai aktual dan prediksi\n",
        "comparison_df = pd.DataFrame({'Actual': y_test, 'Predicted': y_pred})\n",
        "print(\"\\nPerbandingan Actual vs Predicted:\")\n",
        "print(comparison_df.head())\n",
        "\n",
        "# Menampilkan grafik perbandingan antara nilai aktual dan prediksi\n",
        "import matplotlib.pyplot as plt\n",
        "\n",
        "plt.figure(figsize=(10, 6))\n",
        "plt.plot(y_test, label='Actual Rain Rate', color='blue')\n",
        "plt.plot(y_pred, label='Predicted Rain Rate', color='red', linestyle='--')\n",
        "plt.title('Actual vs Predicted Rain Rate')\n",
        "plt.xlabel('Time')\n",
        "plt.ylabel('Rain Rate')\n",
        "plt.legend()\n",
        "plt.show()\n"
      ],
      "metadata": {
        "colab": {
          "base_uri": "https://localhost:8080/",
          "height": 720
        },
        "id": "s91m0fuXUyfz",
        "outputId": "b7e106a0-104b-4e4f-9535-f19dde2d7bda"
      },
      "execution_count": 42,
      "outputs": [
        {
          "output_type": "stream",
          "name": "stdout",
          "text": [
            "RMSE (Root Mean Squared Error): 9.978456241580428\n",
            "\n",
            "Perbandingan Actual vs Predicted:\n",
            "   Actual  Predicted\n",
            "0     1.0   0.794034\n",
            "1     2.0   0.794034\n",
            "2     0.0   0.000000\n",
            "3     0.0   4.754034\n",
            "4     0.0   1.634034\n"
          ]
        },
        {
          "output_type": "display_data",
          "data": {
            "text/plain": [
              "<Figure size 1000x600 with 1 Axes>"
            ],
            "image/png": "[encoded data removed]"
          },
          "metadata": {}
        }
      ]
    },
    {
      "cell_type": "code",
      "source": [
        "# Importing required libraries\n",
        "import pandas as pd\n",
        "import numpy as np\n",
        "\n",
        "# # Load data dari Google Drive (ubah path sesuai dengan file Anda)\n",
        "# from google.colab import drive\n",
        "# drive.mount('/content/drive')\n",
        "\n",
        "# # Membaca dataset\n",
        "# data = pd.read_excel('/content/drive/My Drive/psd/hujan/hujan.xlsx')\n",
        "\n",
        "import pandas as pd\n",
        "\n",
        "url = 'https://raw.githubusercontent.com/Bima-010/psd/main/datasets/hujan.xlsx'\n",
        "\n",
        "data = pd.read_excel(url)\n",
        "\n",
        "# Preprocessing data\n",
        "# Mengonversi kolom 'Tanggal' menjadi datetime\n",
        "data['Tanggal'] = pd.to_datetime(data['Tanggal'], errors='coerce')\n",
        "\n",
        "# Mengisi nilai yang hilang dengan 0 (untuk data hujan 0 mm/h)\n",
        "data['RR'] = data['RR'].replace(8888, np.nan).replace(9999, np.nan)\n",
        "data['RR'].fillna(0, inplace=True)\n",
        "\n",
        "# Menampilkan data setelah preprocessing\n",
        "print(data.head())\n"
      ],
      "metadata": {
        "colab": {
          "base_uri": "https://localhost:8080/"
        },
        "id": "_-2viEOlVVIy",
        "outputId": "b823ab65-6535-4aad-9f1b-8a4d5c5490e7"
      },
      "execution_count": 44,
      "outputs": [
        {
          "output_type": "stream",
          "name": "stdout",
          "text": [
            "Drive already mounted at /content/drive; to attempt to forcibly remount, call drive.mount(\"/content/drive\", force_remount=True).\n",
            "     Tanggal   RR\n",
            "0 2024-01-01  0.6\n",
            "1 2024-02-01  0.0\n",
            "2 2024-03-01  0.0\n",
            "3 2024-04-01  4.5\n",
            "4 2024-05-01  0.0\n"
          ]
        },
        {
          "output_type": "stream",
          "name": "stderr",
          "text": [
            "<ipython-input-44-0984e0ca3825>:18: FutureWarning: A value is trying to be set on a copy of a DataFrame or Series through chained assignment using an inplace method.\n",
            "The behavior will change in pandas 3.0. This inplace method will never work because the intermediate object on which we are setting values always behaves as a copy.\n",
            "\n",
            "For example, when doing 'df[col].method(value, inplace=True)', try using 'df.method({col: value}, inplace=True)' or df[col] = df[col].method(value) instead, to perform the operation inplace on the original object.\n",
            "\n",
            "\n",
            "  data['RR'].fillna(0, inplace=True)\n"
          ]
        }
      ]
    },
    {
      "cell_type": "code",
      "source": [
        "from sklearn.preprocessing import MinMaxScaler\n",
        "\n",
        "# Normalisasi data\n",
        "scaler = MinMaxScaler()\n",
        "data_normalized = scaler.fit_transform(data[['RR']])\n",
        "\n",
        "# Menampilkan hasil normalisasi data\n",
        "print(\"Sample of normalized data:\")\n",
        "print(data_normalized[:5])\n"
      ],
      "metadata": {
        "colab": {
          "base_uri": "https://localhost:8080/"
        },
        "id": "83KLfhAfVgwH",
        "outputId": "c861ae3e-e744-4e04-ced1-e564e5e0cc9a"
      },
      "execution_count": 45,
      "outputs": [
        {
          "output_type": "stream",
          "name": "stdout",
          "text": [
            "Sample of normalized data:\n",
            "[[0.00361446]\n",
            " [0.        ]\n",
            " [0.        ]\n",
            " [0.02710843]\n",
            " [0.        ]]\n"
          ]
        }
      ]
    },
    {
      "cell_type": "code",
      "source": [
        "# Membuat fungsi sliding window untuk membuat data supervised\n",
        "def create_supervised_data(data, target_column, window_size):\n",
        "    X, y = [], []\n",
        "    for i in range(len(data) - window_size):\n",
        "        X.append(data[i:(i + window_size), 0])  # Menggunakan 'RR' sebagai fitur\n",
        "        y.append(data[i + window_size, 0])     # Target adalah nilai rain rate di masa depan\n",
        "    return np.array(X), np.array(y)\n",
        "\n",
        "# Menentukan ukuran window\n",
        "window_size = 5\n",
        "\n",
        "# Membuat data supervised\n",
        "X, y = create_supervised_data(data_normalized, 'RR', window_size)\n",
        "\n",
        "# Menampilkan bentuk data X dan y\n",
        "print(\"Shape of X:\", X.shape)\n",
        "print(\"Shape of y:\", y.shape)\n"
      ],
      "metadata": {
        "colab": {
          "base_uri": "https://localhost:8080/"
        },
        "id": "J1dJgtVjVh4E",
        "outputId": "c43f421a-ee59-4cfe-eb3f-54c13f8eae89"
      },
      "execution_count": 46,
      "outputs": [
        {
          "output_type": "stream",
          "name": "stdout",
          "text": [
            "Shape of X: (330, 5)\n",
            "Shape of y: (330,)\n"
          ]
        }
      ]
    },
    {
      "cell_type": "code",
      "source": [
        "from sklearn.model_selection import train_test_split\n",
        "\n",
        "# Memisahkan data menjadi train dan test\n",
        "X_train, X_test, y_train, y_test = train_test_split(X, y, test_size=0.2, shuffle=False)\n",
        "\n",
        "# Menampilkan dimensi data train dan test\n",
        "print(\"Shape of X_train:\", X_train.shape)\n",
        "print(\"Shape of X_test:\", X_test.shape)\n"
      ],
      "metadata": {
        "colab": {
          "base_uri": "https://localhost:8080/"
        },
        "id": "t1ZPE8fXVkLW",
        "outputId": "5137ae53-a7f9-49e8-ace1-8f82a46ac4e3"
      },
      "execution_count": 47,
      "outputs": [
        {
          "output_type": "stream",
          "name": "stdout",
          "text": [
            "Shape of X_train: (264, 5)\n",
            "Shape of X_test: (66, 5)\n"
          ]
        }
      ]
    },
    {
      "cell_type": "code",
      "source": [
        "from sklearn.ensemble import RandomForestRegressor\n",
        "\n",
        "# Melatih model Random Forest\n",
        "rf_model = RandomForestRegressor(n_estimators=100, random_state=42)\n",
        "rf_model.fit(X_train, y_train)\n",
        "\n",
        "# Menampilkan model\n",
        "print(rf_model)\n"
      ],
      "metadata": {
        "colab": {
          "base_uri": "https://localhost:8080/"
        },
        "id": "6fSpmwg4VmU0",
        "outputId": "28739083-f2b3-4924-dd47-08128832a7f4"
      },
      "execution_count": 48,
      "outputs": [
        {
          "output_type": "stream",
          "name": "stdout",
          "text": [
            "RandomForestRegressor(random_state=42)\n"
          ]
        }
      ]
    },
    {
      "cell_type": "code",
      "source": [
        "# Membuat prediksi\n",
        "y_pred = rf_model.predict(X_test)\n",
        "\n",
        "# Menampilkan beberapa nilai prediksi\n",
        "print(\"Predicted values:\", y_pred[:5])\n"
      ],
      "metadata": {
        "colab": {
          "base_uri": "https://localhost:8080/"
        },
        "id": "_k6lMXnQVo8j",
        "outputId": "069adc1a-01ac-4a98-8c4f-81b64a1f911a"
      },
      "execution_count": 49,
      "outputs": [
        {
          "output_type": "stream",
          "name": "stdout",
          "text": [
            "Predicted values: [0.00199083 0.01411306 0.01680556 0.06088554 0.012     ]\n"
          ]
        }
      ]
    },
    {
      "cell_type": "code",
      "source": [
        "from sklearn.metrics import mean_absolute_error, mean_squared_error\n",
        "import numpy as np\n",
        "\n",
        "# Evaluasi Model\n",
        "# RMSE (Root Mean Squared Error)\n",
        "rmse = np.sqrt(mean_squared_error(y_test, y_pred))\n",
        "print(\"RMSE (Root Mean Squared Error):\", rmse)\n",
        "\n",
        "# MAE (Mean Absolute Error)\n",
        "mae = mean_absolute_error(y_test, y_pred)\n",
        "print(\"MAE (Mean Absolute Error):\", mae)\n"
      ],
      "metadata": {
        "colab": {
          "base_uri": "https://localhost:8080/"
        },
        "id": "5Zpc1w6iVs6C",
        "outputId": "d5422c26-84d2-43a6-e0b6-a7e2f27b9ef1"
      },
      "execution_count": 50,
      "outputs": [
        {
          "output_type": "stream",
          "name": "stdout",
          "text": [
            "RMSE (Root Mean Squared Error): 0.06186596164783071\n",
            "MAE (Mean Absolute Error): 0.027449267549093315\n"
          ]
        }
      ]
    },
    {
      "cell_type": "code",
      "source": [],
      "metadata": {
        "id": "n9rQuqW0WMYq"
      },
      "execution_count": null,
      "outputs": []
    },
    {
      "cell_type": "code",
      "source": [
        "# Membuat DataFrame untuk perbandingan antara nilai aktual dan prediksi\n",
        "comparison_df = pd.DataFrame({'Actual': y_test, 'Predicted': y_pred})\n",
        "\n",
        "# Menampilkan perbandingan beberapa nilai\n",
        "print(\"\\nPerbandingan Actual vs Predicted:\")\n",
        "print(comparison_df.head())\n"
      ],
      "metadata": {
        "colab": {
          "base_uri": "https://localhost:8080/"
        },
        "id": "smeRiUxLVy5D",
        "outputId": "59660f52-b66b-4bce-a58d-05b0434dfd85"
      },
      "execution_count": 51,
      "outputs": [
        {
          "output_type": "stream",
          "name": "stdout",
          "text": [
            "\n",
            "Perbandingan Actual vs Predicted:\n",
            "     Actual  Predicted\n",
            "0  0.006024   0.001991\n",
            "1  0.012048   0.014113\n",
            "2  0.000000   0.016806\n",
            "3  0.000000   0.060886\n",
            "4  0.000000   0.012000\n"
          ]
        }
      ]
    },
    {
      "cell_type": "code",
      "source": [
        "import matplotlib.pyplot as plt\n",
        "\n",
        "# Plotting grafik perbandingan\n",
        "plt.figure(figsize=(10, 6))\n",
        "plt.plot(y_test, label='Actual Rain Rate', color='blue')\n",
        "plt.plot(y_pred, label='Predicted Rain Rate', color='red', linestyle='--')\n",
        "plt.title('Actual vs Predicted Rain Rate')\n",
        "plt.xlabel('Time')\n",
        "plt.ylabel('Rain Rate')\n",
        "plt.legend()\n",
        "plt.show()\n"
      ],
      "metadata": {
        "colab": {
          "base_uri": "https://localhost:8080/",
          "height": 564
        },
        "id": "Dcj3xstiV4Oe",
        "outputId": "3612df79-772a-4c10-ec1e-7572f3918ccb"
      },
      "execution_count": 52,
      "outputs": [
        {
          "output_type": "display_data",
          "data": {
            "text/plain": [
              "<Figure size 1000x600 with 1 Axes>"
            ],
            "image/png": "[encoded data removed]"
          },
          "metadata": {}
        }
      ]
    },
    {
      "cell_type": "code",
      "source": [
        "import joblib\n",
        "\n",
        "# Menyimpan model\n",
        "joblib.dump(rf_model, 'rain_rate_rf_model.pkl')\n"
      ],
      "metadata": {
        "colab": {
          "base_uri": "https://localhost:8080/"
        },
        "id": "2Sg5D905XZw1",
        "outputId": "f451f06e-d1db-4ec8-8d4a-31db8be14e6d"
      },
      "execution_count": 56,
      "outputs": [
        {
          "output_type": "execute_result",
          "data": {
            "text/plain": [
              "['rain_rate_rf_model.pkl']"
            ]
          },
          "metadata": {},
          "execution_count": 56
        }
      ]
    }
  ]
}